{
 "cells": [
  {
   "cell_type": "markdown",
   "metadata": {},
   "source": [
    "Step 1\n",
    "As you learned in the last few steps of the Cat Photo App, there is a basic structure needed to start building your web page.\n",
    "\n",
    "Add the <!DOCTYPE html> tag, and an html element with a lang attribute of en."
   ]
  },
  {
   "cell_type": "code",
   "execution_count": null,
   "metadata": {
    "vscode": {
     "languageId": "html"
    }
   },
   "outputs": [],
   "source": [
    "<!DOCTYPE html>\n",
    "<html lang=\"en\">\n",
    "</html>"
   ]
  },
  {
   "cell_type": "markdown",
   "metadata": {},
   "source": [
    "Step 2\n",
    "Add a head element within the html element, so you can add a title element. The title element's text should be Cafe Menu."
   ]
  },
  {
   "cell_type": "code",
   "execution_count": null,
   "metadata": {
    "vscode": {
     "languageId": "html"
    }
   },
   "outputs": [],
   "source": [
    "<head>\n",
    "    <title>Cafe Menu</title>\n",
    "</head>"
   ]
  },
  {
   "cell_type": "markdown",
   "metadata": {},
   "source": [
    "Step 3\n",
    "The title is one of several elements that provide extra information not visible on the web page, but it is useful for search engines or how the page gets displayed.\n",
    "\n",
    "Inside the head element, nest a meta element with an attribute named charset set to the value utf-8 to tell the browser how to encode characters for the page. Note that meta elements are self-closing."
   ]
  },
  {
   "cell_type": "code",
   "execution_count": null,
   "metadata": {
    "vscode": {
     "languageId": "html"
    }
   },
   "outputs": [],
   "source": [
    "<meta charset=\"UTF-8\">\n",
    "\n",
    "<head>\n",
    "    <title>Cafe Menu</title>\n",
    "    <meta charset=\"UTF-8\">\n",
    "  </head>"
   ]
  },
  {
   "cell_type": "markdown",
   "metadata": {},
   "source": [
    "Step 4\n",
    "To prepare to create some actual content, add a body element below the head element."
   ]
  },
  {
   "cell_type": "code",
   "execution_count": null,
   "metadata": {
    "vscode": {
     "languageId": "html"
    }
   },
   "outputs": [],
   "source": [
    "<head>\n",
    "    <meta charset=\"utf-8\" />\n",
    "    <title>Cafe Menu</title>\n",
    "  </head>\n",
    "  <body>\n",
    "      </body>"
   ]
  },
  {
   "cell_type": "markdown",
   "metadata": {},
   "source": [
    "Step 5\n",
    "It's time to add some menu content. Add a main element within the existing body element. It will eventually contain pricing information about coffee and desserts offered by the cafe."
   ]
  },
  {
   "cell_type": "code",
   "execution_count": null,
   "metadata": {
    "vscode": {
     "languageId": "html"
    }
   },
   "outputs": [],
   "source": [
    "<body>\n",
    "    <main>\n",
    "      </main>\n",
    "  </body>"
   ]
  },
  {
   "cell_type": "markdown",
   "metadata": {},
   "source": [
    "Step 6\n",
    "The name of the cafe is CAMPER CAFE. Add an h1 element within your main element. Give it the name of the cafe in capitalized letters to make it stand out."
   ]
  },
  {
   "cell_type": "code",
   "execution_count": null,
   "metadata": {
    "vscode": {
     "languageId": "html"
    }
   },
   "outputs": [],
   "source": [
    "<main>\n",
    "    <h1>CAMPER CAFE</h1>\n",
    "  </main>"
   ]
  },
  {
   "cell_type": "markdown",
   "metadata": {},
   "source": [
    "Step 7\n",
    "To let visitors know the cafe was founded in 2020, add a p element below the h1 element with the text Est. 2020."
   ]
  },
  {
   "cell_type": "code",
   "execution_count": null,
   "metadata": {
    "vscode": {
     "languageId": "html"
    }
   },
   "outputs": [],
   "source": [
    "<h1>CAMPER CAFE</h1>\n",
    "<p>Est. 2020</p>"
   ]
  },
  {
   "cell_type": "markdown",
   "metadata": {},
   "source": [
    "Step 8\n",
    "There will be two sections on the menu, one for coffees and one for desserts. Add a section element within the main element so you have a place to put all the coffees available."
   ]
  },
  {
   "cell_type": "code",
   "execution_count": null,
   "metadata": {
    "vscode": {
     "languageId": "html"
    }
   },
   "outputs": [],
   "source": [
    "<main>\n",
    "    <h1>CAMPER CAFE</h1>\n",
    "    <p>Est. 2020</p>\n",
    "    <section>\n",
    "      </section>\n",
    "  </main>"
   ]
  },
  {
   "cell_type": "markdown",
   "metadata": {},
   "source": [
    "Step 9\n",
    "Create an h2 element in the section element and give it the text Coffee."
   ]
  },
  {
   "cell_type": "code",
   "execution_count": null,
   "metadata": {
    "vscode": {
     "languageId": "html"
    }
   },
   "outputs": [],
   "source": [
    "<section>\n",
    "    <h2>Coffee</h2>\n",
    "  </section>"
   ]
  },
  {
   "cell_type": "markdown",
   "metadata": {},
   "source": [
    "Step 10\n",
    "Up until now, you have been limited regarding the presentation and appearance of the content you create. To start taking control, add a style element within the head element."
   ]
  },
  {
   "cell_type": "code",
   "execution_count": null,
   "metadata": {
    "vscode": {
     "languageId": "html"
    }
   },
   "outputs": [],
   "source": [
    "<head>\n",
    "    <meta charset=\"utf-8\" />\n",
    "    <title>Cafe Menu</title>\n",
    "    <style>\n",
    "      </style>\n",
    "  </head>\n",
    "  <body>\n",
    "    <main>\n",
    "      <h1>CAMPER CAFE</h1>\n",
    "      <p>Est. 2020</p>\n",
    "      <section>\n",
    "        <h2>Coffee</h2>\n",
    "      </section>\n",
    "    </main>\n",
    "  </body>"
   ]
  },
  {
   "cell_type": "markdown",
   "metadata": {},
   "source": [
    "Step 11\n",
    "You can add style to an element by specifying it in the style element and setting a property for it like this:\n",
    "\n",
    "element {\n",
    " property: value;\n",
    "}\n",
    "Center your h1 element by setting its text-align property to the value center."
   ]
  },
  {
   "cell_type": "code",
   "execution_count": null,
   "metadata": {
    "vscode": {
     "languageId": "html"
    }
   },
   "outputs": [],
   "source": [
    "<style>\n",
    "    h1 {\n",
    "        text-align: center;\n",
    "      }\n",
    "    </h1>\n",
    "  </style>"
   ]
  },
  {
   "cell_type": "markdown",
   "metadata": {},
   "source": [
    "Step 12\n",
    "In the previous step, you used a type selector to style the h1 element. Center the h2 and p elements by adding a new type selector for each one to the existing style element."
   ]
  },
  {
   "cell_type": "code",
   "execution_count": null,
   "metadata": {
    "vscode": {
     "languageId": "html"
    }
   },
   "outputs": [],
   "source": [
    "<style>\n",
    "    h1 {\n",
    "      text-align: center;\n",
    "    }\n",
    "    h2 {\n",
    "      text-align: center;\n",
    "    }\n",
    "    p {\n",
    "      text-align: center;\n",
    "    }\n",
    "  </style>"
   ]
  },
  {
   "cell_type": "markdown",
   "metadata": {},
   "source": [
    "Step 13\n",
    "You now have three type selectors with the exact same styling. You can add the same group of styles to many elements by creating a list of selectors. Each selector is separated with commas like this:\n",
    "\n",
    "selector1, selector2 {\n",
    "  property: value;\n",
    "}\n",
    "Delete the three existing type selectors and replace them with one selector list that centers the text for the h1, h2, and p elements."
   ]
  },
  {
   "cell_type": "code",
   "execution_count": null,
   "metadata": {
    "vscode": {
     "languageId": "html"
    }
   },
   "outputs": [],
   "source": [
    "<style>\n",
    "    h1, h2, p {\n",
    "      text-align: center;\n",
    "    }\n",
    "  </style>"
   ]
  },
  {
   "cell_type": "markdown",
   "metadata": {},
   "source": [
    "Step 14\n",
    "You have styled three elements by writing CSS inside the style tags. This works, but since there will be many more styles, it's best to put all the styles in a separate file and link to it.\n",
    "\n",
    "We have created a separate styles.css file for you and switched the editor view to that file. You can change between files with the tabs at the top of the editor.\n",
    "\n",
    "Start by rewriting the styles you have created into the styles.css file. Make sure to exclude the opening and closing style tags."
   ]
  },
  {
   "cell_type": "code",
   "execution_count": null,
   "metadata": {
    "vscode": {
     "languageId": "html"
    }
   },
   "outputs": [],
   "source": [
    "h1, h2, p {\n",
    "    text-align: center;\n",
    "  }"
   ]
  },
  {
   "cell_type": "markdown",
   "metadata": {},
   "source": [
    "Step 15\n",
    "Now that you have the CSS in the styles.css file, go ahead and remove the style element and all its content. Once it is removed, the text that was centered will shift back to the left."
   ]
  },
  {
   "cell_type": "code",
   "execution_count": null,
   "metadata": {
    "vscode": {
     "languageId": "html"
    }
   },
   "outputs": [],
   "source": [
    "<head>\n",
    "    <meta charset=\"utf-8\" />\n",
    "    <title>Cafe Menu</title>\n",
    "  </head>"
   ]
  },
  {
   "cell_type": "markdown",
   "metadata": {},
   "source": [
    "Step 16\n",
    "Now you need to link the styles.css file so the styles will be applied again. Nest a self-closing link element in the head element. Give it a rel attribute value stylesheet and an href attribute value of styles.css."
   ]
  },
  {
   "cell_type": "code",
   "execution_count": null,
   "metadata": {
    "vscode": {
     "languageId": "html"
    }
   },
   "outputs": [],
   "source": [
    "<link rel=\"stylesheet\" href=\"styles.css\">\n",
    "\n",
    "<head>\n",
    "    <meta charset=\"utf-8\" />\n",
    "    <title>Cafe Menu</title>\n",
    "    <link rel=\"stylesheet\" href=\"styles.css\">\n",
    "  </head>"
   ]
  },
  {
   "cell_type": "markdown",
   "metadata": {},
   "source": [
    "Step 17\n",
    "For the styling of the page to look similar on mobile as it does on a desktop or laptop, you need to add a meta element with a special content attribute.\n",
    "\n",
    "Add the following within the head element:\n",
    "\n",
    "<meta name=\"viewport\" content=\"width=device-width, initial-scale=1.0\" />"
   ]
  },
  {
   "cell_type": "code",
   "execution_count": null,
   "metadata": {
    "vscode": {
     "languageId": "html"
    }
   },
   "outputs": [],
   "source": [
    "<head>\n",
    "    <meta charset=\"utf-8\" />\n",
    "    <title>Cafe Menu</title>\n",
    "    <link href=\"styles.css\" rel=\"stylesheet\"/>\n",
    "    <meta name=\"viewport\" content=\"width=device-width, initial-scale=1.0\" />\n",
    "  </head>"
   ]
  },
  {
   "cell_type": "markdown",
   "metadata": {},
   "source": [
    "Step 18\n",
    "The text is centered again so the link to the CSS file is working. Add another style to the file that changes the background-color property to brown for the body element."
   ]
  },
  {
   "cell_type": "code",
   "execution_count": null,
   "metadata": {
    "vscode": {
     "languageId": "html"
    }
   },
   "outputs": [],
   "source": [
    "h1, h2, p {\n",
    "    text-align: center;\n",
    "  }\n",
    "  body {\n",
    "    background-color:brown;\n",
    "  }"
   ]
  },
  {
   "cell_type": "markdown",
   "metadata": {},
   "source": [
    "Step 19\n",
    "That brown background makes it hard to read the text. Change the body element's background color to be burlywood so it has some color but you are still be able to read the text."
   ]
  },
  {
   "cell_type": "code",
   "execution_count": null,
   "metadata": {
    "vscode": {
     "languageId": "html"
    }
   },
   "outputs": [],
   "source": [
    "body {\n",
    "    background-color: burlywood;\n",
    "  }"
   ]
  },
  {
   "cell_type": "markdown",
   "metadata": {},
   "source": [
    "Step 20\n",
    "The div element is used mainly for design layout purposes unlike the other content elements you have used so far. Add a div element inside the body element and then move all the other elements inside the new div."
   ]
  },
  {
   "cell_type": "code",
   "execution_count": null,
   "metadata": {
    "vscode": {
     "languageId": "html"
    }
   },
   "outputs": [],
   "source": [
    "<body>\n",
    "    <div>\n",
    "    <main>\n",
    "      <h1>CAMPER CAFE</h1>\n",
    "      <p>Est. 2020</p>\n",
    "      <section>\n",
    "        <h2>Coffee</h2>\n",
    "      </section>\n",
    "    </main>\n",
    "    </div>\n",
    "  </body>"
   ]
  },
  {
   "cell_type": "markdown",
   "metadata": {},
   "source": [
    "Step 21\n",
    "The goal now is to make the div not take up the entire width of the page. The CSS width property is perfect for this. Create a new type selector in the style sheet that gives your div element a width of 300px."
   ]
  },
  {
   "cell_type": "code",
   "execution_count": null,
   "metadata": {
    "vscode": {
     "languageId": "html"
    }
   },
   "outputs": [],
   "source": [
    "\n",
    "div {\n",
    "    width: 300px;\n",
    "}"
   ]
  },
  {
   "cell_type": "markdown",
   "metadata": {},
   "source": [
    "Step 22\n",
    "Comments in CSS look like this:\n",
    "\n",
    "/* comment here */\n",
    "In your style sheet, comment out the line containing the background-color property and value, so you can see the effect of only styling div element. This will make the background white again."
   ]
  },
  {
   "cell_type": "code",
   "execution_count": null,
   "metadata": {
    "vscode": {
     "languageId": "html"
    }
   },
   "outputs": [],
   "source": [
    "/* background-color: burlywood; */"
   ]
  },
  {
   "cell_type": "markdown",
   "metadata": {},
   "source": [
    "Step 23\n",
    "Now use the existing div selector to set the background color of the div element to be burlywood."
   ]
  },
  {
   "cell_type": "code",
   "execution_count": null,
   "metadata": {
    "vscode": {
     "languageId": "html"
    }
   },
   "outputs": [],
   "source": [
    "div {\n",
    "    width: 300px;\n",
    "    background-color: burlywood;\n",
    "  }"
   ]
  },
  {
   "cell_type": "markdown",
   "metadata": {},
   "source": [
    "Step 24\n",
    "Now it's easy to see that the text is centered inside the div element. Currently, the width of the div element is specified in pixels (px). Change the width property's value to be 80%, to make it 80% the width of its parent element (body)."
   ]
  },
  {
   "cell_type": "code",
   "execution_count": null,
   "metadata": {
    "vscode": {
     "languageId": "html"
    }
   },
   "outputs": [],
   "source": [
    "div {\n",
    "    width: 80%;\n",
    "    background-color: burlywood;\n",
    "  }"
   ]
  },
  {
   "cell_type": "markdown",
   "metadata": {},
   "source": [
    "Step 25\n",
    "Next, you want to center the div horizontally. You can do this by setting its margin-left and margin-right properties to auto. Think of the margin as invisible space around an element. Using these two margin properties, center the div element within the body element."
   ]
  },
  {
   "cell_type": "code",
   "execution_count": null,
   "metadata": {
    "vscode": {
     "languageId": "html"
    }
   },
   "outputs": [],
   "source": [
    "div {\n",
    "    width: 80%;\n",
    "    background-color: burlywood;\n",
    "    margin-left: auto;\n",
    "    margin-right: auto;\n",
    "  }"
   ]
  },
  {
   "cell_type": "markdown",
   "metadata": {},
   "source": [
    "Step 26\n",
    "So far you have been using type selectors to style elements. A class selector is defined by a name with a dot directly in front of it, like this:\n",
    "\n",
    ".class-name {\n",
    "  styles\n",
    "}\n",
    "Change the existing div selector into a class selector by replacing div with a class named menu."
   ]
  },
  {
   "cell_type": "code",
   "execution_count": null,
   "metadata": {
    "vscode": {
     "languageId": "html"
    }
   },
   "outputs": [],
   "source": [
    ".menu {\n",
    "    width: 80%;\n",
    "    background-color: burlywood;\n",
    "    margin-left: auto;\n",
    "    margin-right: auto;\n",
    "  }"
   ]
  },
  {
   "cell_type": "markdown",
   "metadata": {},
   "source": [
    "Step 27\n",
    "To apply the class's styling to the div element, add a class attribute to the div element's opening tag and set its value to menu."
   ]
  },
  {
   "cell_type": "code",
   "execution_count": null,
   "metadata": {
    "vscode": {
     "languageId": "html"
    }
   },
   "outputs": [],
   "source": [
    "<div class=\"menu\">"
   ]
  },
  {
   "cell_type": "markdown",
   "metadata": {},
   "source": [
    "Step 28\n",
    "Since the cafe's main product for sale is coffee, you could use an image of coffee beans for the background of the page.\n",
    "\n",
    "Delete the comment and its contents inside the body type selector. Now add a background-image property and set its value to url(https://cdn.freecodecamp.org/curriculum/css-cafe/beans.jpg)."
   ]
  },
  {
   "cell_type": "code",
   "execution_count": null,
   "metadata": {
    "vscode": {
     "languageId": "html"
    }
   },
   "outputs": [],
   "source": [
    "body {\n",
    "    background-image: url(https://cdn.freecodecamp.org/curriculum/css-cafe/beans.jpg);\n",
    "   }"
   ]
  },
  {
   "cell_type": "markdown",
   "metadata": {},
   "source": [
    "Step 29\n",
    "It’s looking good. Time to start adding some menu items. Add an empty article element under the Coffee heading. It will contain a flavor and price of each coffee you currently offer."
   ]
  },
  {
   "cell_type": "code",
   "execution_count": null,
   "metadata": {
    "vscode": {
     "languageId": "html"
    }
   },
   "outputs": [],
   "source": [
    "<h2>Coffee</h2>\n",
    "<article>\n",
    "  </article>"
   ]
  },
  {
   "cell_type": "markdown",
   "metadata": {},
   "source": [
    "Step 30\n",
    "article elements commonly contain multiple elements that have related information. In this case, it will contain a coffee flavor and a price for that flavor. Nest two p elements inside your article element. The first one's text should be French Vanilla, and the second's text 3.00."
   ]
  },
  {
   "cell_type": "code",
   "execution_count": null,
   "metadata": {
    "vscode": {
     "languageId": "html"
    }
   },
   "outputs": [],
   "source": [
    "<article>\n",
    "    <p>French Vanilla</p>\n",
    "    <p>3.00</p>\n",
    "  </article>"
   ]
  },
  {
   "cell_type": "markdown",
   "metadata": {},
   "source": [
    "Step 31\n",
    "Starting below the existing coffee/price pair, add the following coffee and prices using article elements with two nested p elements inside each. As before, the first p element's text should contain the coffee flavor and the second p element's text should contain the price.\n",
    "\n",
    "Caramel Macchiato 3.75\n",
    "Pumpkin Spice 3.50\n",
    "Hazelnut 4.00\n",
    "Mocha 4.50"
   ]
  },
  {
   "cell_type": "code",
   "execution_count": null,
   "metadata": {
    "vscode": {
     "languageId": "html"
    }
   },
   "outputs": [],
   "source": [
    "<article>\n",
    "    <p>French Vanilla</p>\n",
    "    <p>3.00</p>\n",
    "  </article>\n",
    "  <article>\n",
    "    <p>Caramel Macchiato</p>\n",
    "    <p>3.75</p>\n",
    "  </article>\n",
    "  <article>\n",
    "    <p>Pumpkin Spice</p>\n",
    "    <p>3.50</p>\n",
    "  </article>\n",
    "  <article>\n",
    "    <p>Hazelnut</p>\n",
    "    <p>4.00</p>\n",
    "  </article>\n",
    "  <article>\n",
    "    <p>Mocha</p>\n",
    "    <p>4.50</p>\n",
    "  </article>   "
   ]
  },
  {
   "cell_type": "markdown",
   "metadata": {},
   "source": [
    "Step 32\n",
    "The flavors and prices are currently stacked on top of each other and centered with their respective p elements. It would be nice if the flavor was on the left and the price was on the right.\n",
    "\n",
    "Add the class name flavor to the French Vanilla p element."
   ]
  },
  {
   "cell_type": "code",
   "execution_count": null,
   "metadata": {
    "vscode": {
     "languageId": "html"
    }
   },
   "outputs": [],
   "source": [
    "<p class=\"flavor\">French Vanilla</p>\n",
    "<p>3.00</p>"
   ]
  },
  {
   "cell_type": "markdown",
   "metadata": {},
   "source": [
    "Step 33\n",
    "Using your new flavor class as a selector, set the text-align property's value to left."
   ]
  },
  {
   "cell_type": "code",
   "execution_count": null,
   "metadata": {
    "vscode": {
     "languageId": "html"
    }
   },
   "outputs": [],
   "source": [
    ".flavor {\n",
    "    text-align: left;\n",
    "  }"
   ]
  },
  {
   "cell_type": "markdown",
   "metadata": {},
   "source": [
    "Step 34\n",
    "Next, you want to align the price to the right. Add a class named price to your p element that has 3.00 as its text."
   ]
  },
  {
   "cell_type": "code",
   "execution_count": null,
   "metadata": {
    "vscode": {
     "languageId": "html"
    }
   },
   "outputs": [],
   "source": [
    "<p class=\"price\">3.00</p>"
   ]
  },
  {
   "cell_type": "markdown",
   "metadata": {},
   "source": [
    "Step 35\n",
    "Now align the text to the right for the elements with the price class."
   ]
  },
  {
   "cell_type": "code",
   "execution_count": null,
   "metadata": {
    "vscode": {
     "languageId": "html"
    }
   },
   "outputs": [],
   "source": [
    ".price {\n",
    "    text-align: right;\n",
    "  }"
   ]
  },
  {
   "cell_type": "markdown",
   "metadata": {},
   "source": [
    "Step 36\n",
    "That is kind of what you want, but now it would be nice if the flavor and price were on the same line. p elements are block-level elements, so they take up the entire width of their parent element.\n",
    "\n",
    "To get them on the same line, you need to apply some styling to the p elements so they behave more like inline elements. To do that, start by adding a class attribute with the value item to the first article element under the Coffee heading."
   ]
  },
  {
   "cell_type": "code",
   "execution_count": null,
   "metadata": {
    "vscode": {
     "languageId": "html"
    }
   },
   "outputs": [],
   "source": [
    "<h2>Coffee</h2>\n",
    "<article class=\"item\">\n",
    "  <p class=\"flavor\">French Vanilla</p>\n",
    "  <p class=\"price\">3.00</p>\n",
    "</article>"
   ]
  },
  {
   "cell_type": "markdown",
   "metadata": {},
   "source": [
    "Step 37\n",
    "The p elements are nested in an article element with the class attribute of item. You can style all the p elements nested anywhere in elements with a class named item like this:\n",
    "\n",
    ".item p { }\n",
    "Using the above selector, add a display property with value inline-block so the p elements behave more like inline elements."
   ]
  },
  {
   "cell_type": "code",
   "execution_count": null,
   "metadata": {
    "vscode": {
     "languageId": "html"
    }
   },
   "outputs": [],
   "source": [
    ".item p {\n",
    "    display: inline-block;\n",
    "  }"
   ]
  },
  {
   "cell_type": "markdown",
   "metadata": {},
   "source": [
    "Step 38\n",
    "That's closer, but the price didn't stay over on the right. This is because inline-block elements only take up the width of their content. To spread them out, add a width property to the flavor and price class selectors that have a value of 50% each."
   ]
  },
  {
   "cell_type": "code",
   "execution_count": null,
   "metadata": {
    "vscode": {
     "languageId": "html"
    }
   },
   "outputs": [],
   "source": [
    ".flavor {\n",
    "    text-align: left;\n",
    "    width: 50%;\n",
    "  }\n",
    "  \n",
    "  .price {\n",
    "    text-align: right;\n",
    "    width: 50%\n",
    "  }"
   ]
  },
  {
   "cell_type": "markdown",
   "metadata": {},
   "source": [
    "Step 39\n",
    "Well that did not work. Styling the p elements as inline-block and placing them on separate lines in the code creates an extra space to the right of the first p element, causing the second one to shift to the next line. One way to fix this is to make each p element's width a little less than 50%.\n",
    "\n",
    "Change the width value to 49% for each class to see what happens."
   ]
  },
  {
   "cell_type": "code",
   "execution_count": null,
   "metadata": {
    "vscode": {
     "languageId": "html"
    }
   },
   "outputs": [],
   "source": [
    ".flavor {\n",
    "    text-align: left;\n",
    "    width: 49%;\n",
    "  }\n",
    "  \n",
    "  .price {\n",
    "    text-align: right;\n",
    "    width: 49%;\n",
    "  }"
   ]
  },
  {
   "cell_type": "markdown",
   "metadata": {},
   "source": [
    "Step 40\n",
    "That worked, but there is still a little space on the right of the price.\n",
    "\n",
    "You could keep trying various percentages for the widths. Instead, use the back space key on your keyboard to move the p element with the class price next to the p element with the class flavor so that they are on the same line in the editor. Make sure there is no space between them."
   ]
  },
  {
   "cell_type": "code",
   "execution_count": null,
   "metadata": {
    "vscode": {
     "languageId": "html"
    }
   },
   "outputs": [],
   "source": [
    "<p class=\"flavor\">French Vanilla</p><p class=\"price\">3.00</p>"
   ]
  },
  {
   "cell_type": "markdown",
   "metadata": {},
   "source": [
    "Step 41\n",
    "Now go ahead and change both the flavor and price class' widths to be 50% again."
   ]
  },
  {
   "cell_type": "code",
   "execution_count": null,
   "metadata": {
    "vscode": {
     "languageId": "html"
    }
   },
   "outputs": [],
   "source": [
    ".flavor {\n",
    "    text-align: left;\n",
    "    width: 50%;\n",
    "  }\n",
    "  \n",
    "  .price {\n",
    "    text-align: right;\n",
    "    width: 50%;\n",
    "  }"
   ]
  },
  {
   "cell_type": "markdown",
   "metadata": {},
   "source": [
    "Step 42\n",
    "Now that you know it works, you can change the remaining article and p elements to match the first set. Start by adding the class item to the other article elements."
   ]
  },
  {
   "cell_type": "code",
   "execution_count": null,
   "metadata": {
    "vscode": {
     "languageId": "html"
    }
   },
   "outputs": [],
   "source": [
    "<article class=\"item\">\n",
    "    <p>Caramel Macchiato</p>\n",
    "    <p>3.75</p>\n",
    "  </article>\n",
    "  <article class=\"item\">\n",
    "    <p>Pumpkin Spice</p>\n",
    "    <p>3.50</p>\n",
    "  </article>\n",
    "  <article class=\"item\">\n",
    "    <p>Hazelnut</p>\n",
    "    <p>4.00</p>\n",
    "  </article>\n",
    "  <article class=\"item\">\n",
    "    <p>Mocha</p>\n",
    "    <p>4.50</p>\n",
    "  </article>"
   ]
  },
  {
   "cell_type": "markdown",
   "metadata": {},
   "source": [
    "Step 43\n",
    "Next, position the other p elements to be on the same line with no space between them."
   ]
  },
  {
   "cell_type": "code",
   "execution_count": null,
   "metadata": {
    "vscode": {
     "languageId": "html"
    }
   },
   "outputs": [],
   "source": [
    "<article class=\"item\">\n",
    "    <p>Caramel Macchiato</p><p>3.75</p>\n",
    "  </article>\n",
    "  <article class=\"item\">\n",
    "    <p>Pumpkin Spice</p><p>3.50</p>\n",
    "  </article>\n",
    "  <article class=\"item\">\n",
    "    <p>Hazelnut</p><p>4.00</p>\n",
    "  </article>\n",
    "  <article class=\"item\">\n",
    "    <p>Mocha</p><p>4.50</p>\n",
    "  </article>"
   ]
  },
  {
   "cell_type": "markdown",
   "metadata": {},
   "source": [
    "Step 44\n",
    "To complete the styling, add the applicable class names flavor and price to all the remaining p elements."
   ]
  },
  {
   "cell_type": "code",
   "execution_count": null,
   "metadata": {
    "vscode": {
     "languageId": "html"
    }
   },
   "outputs": [],
   "source": [
    "<article class=\"item\">\n",
    "    <p class=\"flavor\">Caramel Macchiato</p><p class=\"price\">3.75</p>\n",
    "  </article>\n",
    "  <article class=\"item\">\n",
    "    <p class=\"flavor\">Pumpkin Spice</p><p class=\"price\">3.50</p>\n",
    "  </article>\n",
    "  <article class=\"item\">\n",
    "    <p class=\"flavor\">Hazelnut</p><p class=\"price\">4.00</p>\n",
    "  </article>\n",
    "  <article class=\"item\">\n",
    "    <p class=\"flavor\">Mocha</p><p class=\"price\">4.50</p>\n",
    "  </article>"
   ]
  },
  {
   "cell_type": "markdown",
   "metadata": {},
   "source": [
    "Step 45\n",
    "If you make the width of the page preview smaller, you will notice at some point, some of the text on the left starts wrapping around to the next line. This is because the width of the p elements on the left side can only take up 50% of the space.\n",
    "\n",
    "Since you know the prices on the right have significantly fewer characters, change the flavor class width value to be 75% and the price class width value to be 25%."
   ]
  },
  {
   "cell_type": "code",
   "execution_count": null,
   "metadata": {
    "vscode": {
     "languageId": "html"
    }
   },
   "outputs": [],
   "source": [
    ".flavor {\n",
    "    text-align: left;\n",
    "    width: 75%;\n",
    "  }\n",
    "  \n",
    "  .price {\n",
    "    text-align: right;\n",
    "    width: 25%;\n",
    "  }"
   ]
  },
  {
   "cell_type": "markdown",
   "metadata": {},
   "source": [
    "Step 46\n",
    "You will come back to styling the menu in a few steps, but for now, go ahead and add a second section element below the first for displaying the desserts offered by the cafe."
   ]
  },
  {
   "cell_type": "code",
   "execution_count": null,
   "metadata": {
    "vscode": {
     "languageId": "html"
    }
   },
   "outputs": [],
   "source": [
    "<section>\n",
    "    <h2>Coffee</h2>\n",
    "    <article class=\"item\">\n",
    "      <p class=\"flavor\">French Vanilla</p><p class=\"price\">3.00</p>\n",
    "    </article>\n",
    "    <article class=\"item\">\n",
    "      <p class=\"flavor\">Caramel Macchiato</p><p class=\"price\">3.75</p>\n",
    "    </article>\n",
    "    <article class=\"item\">\n",
    "      <p class=\"flavor\">Pumpkin Spice</p><p class=\"price\">3.50</p>\n",
    "    </article>\n",
    "    <article class=\"item\">\n",
    "      <p class=\"flavor\">Hazelnut</p><p class=\"price\">4.00</p>\n",
    "    </article>\n",
    "    <article class=\"item\">\n",
    "      <p class=\"flavor\">Mocha</p><p class=\"price\">4.50</p>\n",
    "    </article>\n",
    "  </section>\n",
    "  <section>\n",
    "    </section>"
   ]
  },
  {
   "cell_type": "markdown",
   "metadata": {},
   "source": [
    "Step 47\n",
    "Add an h2 element in the new section and give it the text Desserts."
   ]
  },
  {
   "cell_type": "code",
   "execution_count": null,
   "metadata": {
    "vscode": {
     "languageId": "html"
    }
   },
   "outputs": [],
   "source": [
    "\n",
    "<section>\n",
    "    <h2>Desserts</h2>\n",
    "  </section>"
   ]
  },
  {
   "cell_type": "markdown",
   "metadata": {},
   "source": [
    "Step 48\n",
    "Add an empty article element under the Desserts heading. Give it a class attribute with the value item."
   ]
  },
  {
   "cell_type": "code",
   "execution_count": null,
   "metadata": {
    "vscode": {
     "languageId": "html"
    }
   },
   "outputs": [],
   "source": [
    "<h2>Desserts</h2>\n",
    "<article class=\"item\">\n",
    "  </article>"
   ]
  },
  {
   "cell_type": "markdown",
   "metadata": {},
   "source": [
    "Step 49\n",
    "Nest two p elements inside your article element. The first one's text should be Donut, and the second's text 1.50. Put both of them on the same line making sure there is no space between them."
   ]
  },
  {
   "cell_type": "code",
   "execution_count": null,
   "metadata": {
    "vscode": {
     "languageId": "html"
    }
   },
   "outputs": [],
   "source": [
    "<article class=\"item\">\n",
    "    <p>Donut</p>\n",
    "    <p>1.50</p>\n",
    "  </article>"
   ]
  },
  {
   "cell_type": "markdown",
   "metadata": {},
   "source": [
    "Step 50\n",
    "For the two p elements you just added, add dessert as the value of the first p element's class attribute and the value price as the second p elements class attribute."
   ]
  },
  {
   "cell_type": "code",
   "execution_count": null,
   "metadata": {
    "vscode": {
     "languageId": "html"
    }
   },
   "outputs": [],
   "source": [
    "<p class=\"dessert\">Donut</p><p class=\"price\">1.50</p>"
   ]
  },
  {
   "cell_type": "markdown",
   "metadata": {},
   "source": [
    "Step 51\n",
    "Something does not look right. You added the correct class attribute value to the p element with Donut as its text, but you have not defined a selector for it.\n",
    "\n",
    "The CSS rule for the flavor class already sets the properties you want. Add the dessert class as an additional selector for this CSS rule."
   ]
  },
  {
   "cell_type": "code",
   "execution_count": null,
   "metadata": {
    "vscode": {
     "languageId": "html"
    }
   },
   "outputs": [],
   "source": [
    ".flavor, .dessert {\n",
    "    text-align: left;\n",
    "    width: 75%;\n",
    "  }"
   ]
  },
  {
   "cell_type": "markdown",
   "metadata": {},
   "source": [
    "Step 52\n",
    "Below the dessert you just added, add the rest of the desserts and prices using three more article elements, each with two nested p elements. Each element should have the correct dessert and price text, and all of them should have the correct classes.\n",
    "\n",
    "Cherry Pie 2.75\n",
    "Cheesecake 3.00\n",
    "Cinnamon Roll 2.50"
   ]
  },
  {
   "cell_type": "code",
   "execution_count": null,
   "metadata": {
    "vscode": {
     "languageId": "html"
    }
   },
   "outputs": [],
   "source": [
    "<article class=\"item\">\n",
    "    <p class=\"dessert\">Donut</p><p class=\"price\">1.50</p>\n",
    "  </article>\n",
    "  <article class=\"item\">\n",
    "    <p class=\"dessert\">Cherry Pie</p><p class=\"price\">2.75</p>\n",
    "  </article>   \n",
    "  <article class=\"item\">\n",
    "    <p class=\"dessert\">Cheesecake</p><p class=\"price\">3.00</p>\n",
    "  </article>\n",
    "  <article class=\"item\">\n",
    "    <p class=\"dessert\">Cinnamon Roll</p><p class=\"price\">2.50</p>\n",
    "  </article>    "
   ]
  },
  {
   "cell_type": "markdown",
   "metadata": {},
   "source": [
    "Step 53\n",
    "You can give your menu some space between the content and the sides with various padding properties.\n",
    "\n",
    "Give the menu class a padding-left and a padding-right with the same value 20px."
   ]
  },
  {
   "cell_type": "code",
   "execution_count": null,
   "metadata": {
    "vscode": {
     "languageId": "html"
    }
   },
   "outputs": [],
   "source": [
    ".menu {\n",
    "    width: 80%;\n",
    "    background-color: burlywood;\n",
    "    margin-left: auto;\n",
    "    margin-right: auto;\n",
    "    padding-left: 20px;\n",
    "    padding-right: 20px;\n",
    "  }"
   ]
  },
  {
   "cell_type": "markdown",
   "metadata": {},
   "source": [
    "Step 54\n",
    "That looks better. Now try to add the same 20px padding to the top and bottom of the menu."
   ]
  },
  {
   "cell_type": "code",
   "execution_count": null,
   "metadata": {
    "vscode": {
     "languageId": "html"
    }
   },
   "outputs": [],
   "source": [
    ".menu {\n",
    "    width: 80%;\n",
    "    background-color: burlywood;\n",
    "    margin-left: auto;\n",
    "    margin-right: auto;\n",
    "    padding-left: 20px;\n",
    "    padding-right: 20px;\n",
    "    padding-top: 20px;\n",
    "    padding-bottom: 20px;\n",
    "  }"
   ]
  },
  {
   "cell_type": "markdown",
   "metadata": {},
   "source": [
    "Step 55\n",
    "Since all 4 sides of the menu have the same internal spacing, go ahead and delete the four properties and use a single padding property with the value 20px."
   ]
  },
  {
   "cell_type": "code",
   "execution_count": null,
   "metadata": {
    "vscode": {
     "languageId": "html"
    }
   },
   "outputs": [],
   "source": [
    ".menu {\n",
    "    width: 80%;\n",
    "    background-color: burlywood;\n",
    "    margin-left: auto;\n",
    "    margin-right: auto;\n",
    "    padding: 20px;\n",
    "  }"
   ]
  },
  {
   "cell_type": "markdown",
   "metadata": {},
   "source": [
    "Step 56\n",
    "The current width of the menu will always take up 80% of the body element's width. On a very wide screen, the coffee and dessert appear far apart from their prices.\n",
    "\n",
    "Add a max-width property to the menu class with a value of 500px to prevent it from growing too wide."
   ]
  },
  {
   "cell_type": "code",
   "execution_count": null,
   "metadata": {
    "vscode": {
     "languageId": "html"
    }
   },
   "outputs": [],
   "source": [
    ".menu {\n",
    "    width: 80%;\n",
    "    background-color: burlywood;\n",
    "    margin-left: auto;\n",
    "    margin-right: auto;\n",
    "    padding: 20px;\n",
    "    max-width: 500px;\n",
    "  }"
   ]
  },
  {
   "cell_type": "markdown",
   "metadata": {},
   "source": [
    "Step 57\n",
    "You can change the font-family of text, to make it look different from the default font of your browser. Each browser has some common fonts available to it.\n",
    "\n",
    "Change all the text in your body, by adding a font-family property with the value sans-serif. This is a fairly common font that is very readable."
   ]
  },
  {
   "cell_type": "code",
   "execution_count": null,
   "metadata": {
    "vscode": {
     "languageId": "html"
    }
   },
   "outputs": [],
   "source": [
    "body {\n",
    "    background-image: url(https://cdn.freecodecamp.org/curriculum/css-cafe/beans.jpg);\n",
    "    font-family: sans-serif;\n",
    "  }"
   ]
  },
  {
   "cell_type": "markdown",
   "metadata": {},
   "source": [
    "Step 58\n",
    "It is a bit boring for all the text to have the same font-family. You can still have the majority of the text sans-serif and make just the h1 and h2 elements different using a different selector.\n",
    "\n",
    "Style both the h1 and the h2 elements so that only these elements' text use Impact font."
   ]
  },
  {
   "cell_type": "code",
   "execution_count": null,
   "metadata": {
    "vscode": {
     "languageId": "html"
    }
   },
   "outputs": [],
   "source": [
    "h1, h2 {\n",
    "    font-family: Impact;\n",
    "  }"
   ]
  },
  {
   "cell_type": "markdown",
   "metadata": {},
   "source": [
    "Step 59\n",
    "You can add a fallback value for the font-family by adding another font name separated by a comma. Fallbacks are used in instances where the initial is not found/available.\n",
    "\n",
    "Add the fallback font serif after the Impact font."
   ]
  },
  {
   "cell_type": "code",
   "execution_count": null,
   "metadata": {
    "vscode": {
     "languageId": "html"
    }
   },
   "outputs": [],
   "source": [
    "h1, h2 {\n",
    "    font-family: Impact, serif;\n",
    "  }"
   ]
  },
  {
   "cell_type": "markdown",
   "metadata": {},
   "source": [
    "Step 60\n",
    "Make the Est. 2020 text italicized by creating an established class selector and giving it the font-style property with the value italic."
   ]
  },
  {
   "cell_type": "code",
   "execution_count": null,
   "metadata": {
    "vscode": {
     "languageId": "html"
    }
   },
   "outputs": [],
   "source": [
    ".established {\n",
    "    font-style: italic;\n",
    "  }"
   ]
  },
  {
   "cell_type": "markdown",
   "metadata": {},
   "source": [
    "Step 61\n",
    "Now apply the established class to the Est. 2020 text."
   ]
  },
  {
   "cell_type": "code",
   "execution_count": null,
   "metadata": {
    "vscode": {
     "languageId": "html"
    }
   },
   "outputs": [],
   "source": [
    "<h1>CAMPER CAFE</h1>\n",
    "<p class=\"established\">Est. 2020</p>"
   ]
  },
  {
   "cell_type": "markdown",
   "metadata": {},
   "source": [
    "Step 62\n",
    "The typography of heading elements (e.g. h1, h2) is set by default values of users' browsers.\n",
    "\n",
    "Add two new type selectors (h1 and h2). Use the font-size property for both, but use the value 40px for the h1 and 30px for the h2."
   ]
  },
  {
   "cell_type": "code",
   "execution_count": null,
   "metadata": {
    "vscode": {
     "languageId": "html"
    }
   },
   "outputs": [],
   "source": [
    "h1 {\n",
    "    font-size: 40px;\n",
    "  }\n",
    "  h2 {\n",
    "    font-size: 30px;\n",
    "  }"
   ]
  },
  {
   "cell_type": "markdown",
   "metadata": {},
   "source": [
    "Step 63\n",
    "Add a footer element below the main element, where you can add some additional information."
   ]
  },
  {
   "cell_type": "code",
   "execution_count": null,
   "metadata": {
    "vscode": {
     "languageId": "html"
    }
   },
   "outputs": [],
   "source": [
    "</main>\n",
    "<footer>\n",
    "  </footer>"
   ]
  },
  {
   "cell_type": "markdown",
   "metadata": {},
   "source": [
    "Step 64\n",
    "Inside the footer, add a p element. Then, nest an anchor (a) element in the p that links to https://www.freecodecamp.org and has the text Visit our website."
   ]
  },
  {
   "cell_type": "code",
   "execution_count": null,
   "metadata": {
    "vscode": {
     "languageId": "html"
    }
   },
   "outputs": [],
   "source": [
    "<footer>\n",
    "    <p><a href=\"https://www.freecodecamp.org\">Visit our website</a></p>\n",
    "  </footer>"
   ]
  },
  {
   "cell_type": "markdown",
   "metadata": {},
   "source": [
    "Step 65\n",
    "Add a second p element below the one with the link and give it the text 123 Free Code Camp Drive."
   ]
  },
  {
   "cell_type": "code",
   "execution_count": null,
   "metadata": {
    "vscode": {
     "languageId": "html"
    }
   },
   "outputs": [],
   "source": [
    "<p>\n",
    "    <a href=\"https://www.freecodecamp.org\" target=\"_blank\">Visit our website</a>\n",
    "  </p>\n",
    "  <p>123 Free Code Camp Drive</p>"
   ]
  },
  {
   "cell_type": "markdown",
   "metadata": {},
   "source": [
    "Step 66\n",
    "You can use an hr element to display a divider between sections of different content.\n",
    "\n",
    "First, add an hr element between the p element with the class established and the first section element. Note that hr elements are self closing."
   ]
  },
  {
   "cell_type": "code",
   "execution_count": null,
   "metadata": {
    "vscode": {
     "languageId": "html"
    }
   },
   "outputs": [],
   "source": [
    "<!DOCTYPE html>\n",
    "<html lang=\"en\">\n",
    "  <head>\n",
    "    <meta charset=\"utf-8\" />\n",
    "    <meta name=\"viewport\" content=\"width=device-width, initial-scale=1.0\" />\n",
    "    <title>Cafe Menu</title>\n",
    "    <link href=\"styles.css\" rel=\"stylesheet\"/>\n",
    "  </head>\n",
    "  <body>\n",
    "    <div class=\"menu\">\n",
    "      <main>\n",
    "        <h1>CAMPER CAFE</h1>\n",
    "        <p class=\"established\">Est. 2020</p>\n",
    "        <hr> \n",
    "        <section>\n",
    "          <h2>Coffee</h2>\n",
    "          <article class=\"item\">\n",
    "            <p class=\"flavor\">French Vanilla</p><p class=\"price\">3.00</p>\n",
    "          </article>\n",
    "          <article class=\"item\">\n",
    "            <p class=\"flavor\">Caramel Macchiato</p><p class=\"price\">3.75</p>\n",
    "          </article>\n",
    "          <article class=\"item\">\n",
    "            <p class=\"flavor\">Pumpkin Spice</p><p class=\"price\">3.50</p>\n",
    "          </article>\n",
    "          <article class=\"item\">\n",
    "            <p class=\"flavor\">Hazelnut</p><p class=\"price\">4.00</p>\n",
    "          </article>\n",
    "          <article class=\"item\">\n",
    "            <p class=\"flavor\">Mocha</p><p class=\"price\">4.50</p>\n",
    "          </article>\n",
    "        </section>\n",
    "        <section>\n",
    "          <h2>Desserts</h2>\n",
    "          <article class=\"item\">\n",
    "            <p class=\"dessert\">Donut</p><p class=\"price\">1.50</p>\n",
    "          </article>\n",
    "          <article class=\"item\">\n",
    "            <p class=\"dessert\">Cherry Pie</p><p class=\"price\">2.75</p>\n",
    "          </article>\n",
    "          <article class=\"item\">\n",
    "            <p class=\"dessert\">Cheesecake</p><p class=\"price\">3.00</p>\n",
    "          </article>\n",
    "          <article class=\"item\">\n",
    "            <p class=\"dessert\">Cinnamon Roll</p><p class=\"price\">2.50</p>\n",
    "          </article>\n",
    "        </section>\n",
    "      </main>\n",
    "      <footer>\n",
    "        <p>\n",
    "          <a href=\"https://www.freecodecamp.org\" target=\"_blank\">Visit our website</a>\n",
    "        </p>\n",
    "        <p>123 Free Code Camp Drive</p>\n",
    "      </footer>\n",
    "    </div>\n",
    "  </body>\n",
    "</html>"
   ]
  },
  {
   "cell_type": "markdown",
   "metadata": {},
   "source": [
    "Step 67\n",
    "The default properties of an hr element will make it appear as a thin light grey line. You can change the height of the line by specifying a value for the height property.\n",
    "\n",
    "Change the height of the hr element to be 3px."
   ]
  },
  {
   "cell_type": "code",
   "execution_count": null,
   "metadata": {
    "vscode": {
     "languageId": "html"
    }
   },
   "outputs": [],
   "source": [
    "hr {\n",
    "    height: 3px;\n",
    "  }"
   ]
  },
  {
   "cell_type": "markdown",
   "metadata": {},
   "source": [
    "Step 68\n",
    "Change the background color of the hr element to brown so it matches the color of the coffee beans."
   ]
  },
  {
   "cell_type": "code",
   "execution_count": null,
   "metadata": {
    "vscode": {
     "languageId": "html"
    }
   },
   "outputs": [],
   "source": [
    "hr {\n",
    "    height: 3px;\n",
    "    background-color: brown;\n",
    "  }"
   ]
  },
  {
   "cell_type": "markdown",
   "metadata": {},
   "source": [
    "Step 69\n",
    "Notice the grey color along the edges of the line. Those edges are known as borders. Each side of an element can have a different color or they can all be the same.\n",
    "\n",
    "Make all the edges of the hr element the same color as the background of it using the border-color property."
   ]
  },
  {
   "cell_type": "code",
   "execution_count": null,
   "metadata": {
    "vscode": {
     "languageId": "html"
    }
   },
   "outputs": [],
   "source": [
    "hr {\n",
    "    height: 3px;\n",
    "    background-color: brown;\n",
    "    border-color: brown;\n",
    "  }"
   ]
  },
  {
   "cell_type": "markdown",
   "metadata": {},
   "source": [
    "Step 70\n",
    "Notice how the thickness of the line looks bigger? The default value of a property named border-width is 1px for all edges of hr elements. By changing the border to the same color as the background, the total height of the line is 5px (3px plus the top and bottom border width of 1px).\n",
    "\n",
    "Change the height property of the hr to be 2px, so the total height of it becomes 4px."
   ]
  },
  {
   "cell_type": "code",
   "execution_count": null,
   "metadata": {
    "vscode": {
     "languageId": "html"
    }
   },
   "outputs": [],
   "source": [
    "hr {\n",
    "    height: 2px;\n",
    "    background-color: brown;\n",
    "    border-color: brown;\n",
    "  }"
   ]
  },
  {
   "cell_type": "markdown",
   "metadata": {},
   "source": [
    "Step 71\n",
    "Go ahead and add another hr element between the main element and the footer element."
   ]
  },
  {
   "cell_type": "code",
   "execution_count": null,
   "metadata": {
    "vscode": {
     "languageId": "html"
    }
   },
   "outputs": [],
   "source": [
    "<!DOCTYPE html>\n",
    "<html lang=\"en\">\n",
    "  <head>\n",
    "    <meta charset=\"utf-8\" />\n",
    "    <meta name=\"viewport\" content=\"width=device-width, initial-scale=1.0\" />\n",
    "    <title>Cafe Menu</title>\n",
    "    <link href=\"styles.css\" rel=\"stylesheet\"/>\n",
    "  </head>\n",
    "  <body>\n",
    "    <div class=\"menu\">\n",
    "      <main>\n",
    "        <h1>CAMPER CAFE</h1>\n",
    "        <p class=\"established\">Est. 2020</p>\n",
    "        <hr>\n",
    "        <section>\n",
    "          <h2>Coffee</h2>\n",
    "          <article class=\"item\">\n",
    "            <p class=\"flavor\">French Vanilla</p><p class=\"price\">3.00</p>\n",
    "          </article>\n",
    "          <article class=\"item\">\n",
    "            <p class=\"flavor\">Caramel Macchiato</p><p class=\"price\">3.75</p>\n",
    "          </article>\n",
    "          <article class=\"item\">\n",
    "            <p class=\"flavor\">Pumpkin Spice</p><p class=\"price\">3.50</p>\n",
    "          </article>\n",
    "          <article class=\"item\">\n",
    "            <p class=\"flavor\">Hazelnut</p><p class=\"price\">4.00</p>\n",
    "          </article>\n",
    "          <article class=\"item\">\n",
    "            <p class=\"flavor\">Mocha</p><p class=\"price\">4.50</p>\n",
    "          </article>\n",
    "        </section>\n",
    "        <section>\n",
    "          <h2>Desserts</h2>\n",
    "          <article class=\"item\">\n",
    "            <p class=\"dessert\">Donut</p><p class=\"price\">1.50</p>\n",
    "          </article>\n",
    "          <article class=\"item\">\n",
    "            <p class=\"dessert\">Cherry Pie</p><p class=\"price\">2.75</p>\n",
    "          </article>\n",
    "          <article class=\"item\">\n",
    "            <p class=\"dessert\">Cheesecake</p><p class=\"price\">3.00</p>\n",
    "          </article>\n",
    "          <article class=\"item\">\n",
    "            <p class=\"dessert\">Cinnamon Roll</p><p class=\"price\">2.50</p>\n",
    "          </article>\n",
    "        </section>\n",
    "      </main>\n",
    "      <hr>\n",
    "      <footer>\n",
    "        <p>\n",
    "          <a href=\"https://www.freecodecamp.org\" target=\"_blank\">Visit our website</a>\n",
    "        </p>\n",
    "        <p>123 Free Code Camp Drive</p>\n",
    "      </footer>\n",
    "    </div>\n",
    "  </body>\n",
    "</html>"
   ]
  },
  {
   "cell_type": "markdown",
   "metadata": {},
   "source": []
  }
 ],
 "metadata": {
  "kernelspec": {
   "display_name": "Python 3",
   "language": "python",
   "name": "python3"
  },
  "language_info": {
   "codemirror_mode": {
    "name": "ipython",
    "version": 3
   },
   "file_extension": ".py",
   "mimetype": "text/x-python",
   "name": "python",
   "nbconvert_exporter": "python",
   "pygments_lexer": "ipython3",
   "version": "3.11.4"
  },
  "orig_nbformat": 4
 },
 "nbformat": 4,
 "nbformat_minor": 2
}
