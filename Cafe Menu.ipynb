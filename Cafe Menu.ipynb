{
 "cells": [
  {
   "cell_type": "markdown",
   "metadata": {},
   "source": [
    "Step 1\n",
    "As you learned in the last few steps of the Cat Photo App, there is a basic structure needed to start building your web page.\n",
    "\n",
    "Add the <!DOCTYPE html> tag, and an html element with a lang attribute of en."
   ]
  },
  {
   "cell_type": "code",
   "execution_count": null,
   "metadata": {
    "vscode": {
     "languageId": "html"
    }
   },
   "outputs": [],
   "source": [
    "<!DOCTYPE html>\n",
    "<html lang=\"en\">\n",
    "</html>"
   ]
  },
  {
   "cell_type": "markdown",
   "metadata": {},
   "source": [
    "Step 2\n",
    "Add a head element within the html element, so you can add a title element. The title element's text should be Cafe Menu."
   ]
  },
  {
   "cell_type": "code",
   "execution_count": null,
   "metadata": {
    "vscode": {
     "languageId": "html"
    }
   },
   "outputs": [],
   "source": [
    "<head>\n",
    "    <title>Cafe Menu</title>\n",
    "</head>"
   ]
  },
  {
   "cell_type": "markdown",
   "metadata": {},
   "source": [
    "Step 3\n",
    "The title is one of several elements that provide extra information not visible on the web page, but it is useful for search engines or how the page gets displayed.\n",
    "\n",
    "Inside the head element, nest a meta element with an attribute named charset set to the value utf-8 to tell the browser how to encode characters for the page. Note that meta elements are self-closing."
   ]
  },
  {
   "cell_type": "code",
   "execution_count": null,
   "metadata": {
    "vscode": {
     "languageId": "html"
    }
   },
   "outputs": [],
   "source": [
    "<meta charset=\"UTF-8\">\n",
    "\n",
    "<head>\n",
    "    <title>Cafe Menu</title>\n",
    "    <meta charset=\"UTF-8\">\n",
    "  </head>"
   ]
  },
  {
   "cell_type": "markdown",
   "metadata": {},
   "source": [
    "Step 4\n",
    "To prepare to create some actual content, add a body element below the head element."
   ]
  },
  {
   "cell_type": "code",
   "execution_count": null,
   "metadata": {
    "vscode": {
     "languageId": "html"
    }
   },
   "outputs": [],
   "source": [
    "<head>\n",
    "    <meta charset=\"utf-8\" />\n",
    "    <title>Cafe Menu</title>\n",
    "  </head>\n",
    "  <body>\n",
    "      </body>"
   ]
  },
  {
   "cell_type": "markdown",
   "metadata": {},
   "source": [
    "Step 5\n",
    "It's time to add some menu content. Add a main element within the existing body element. It will eventually contain pricing information about coffee and desserts offered by the cafe."
   ]
  },
  {
   "cell_type": "code",
   "execution_count": null,
   "metadata": {
    "vscode": {
     "languageId": "html"
    }
   },
   "outputs": [],
   "source": [
    "<body>\n",
    "    <main>\n",
    "      </main>\n",
    "  </body>"
   ]
  },
  {
   "cell_type": "markdown",
   "metadata": {},
   "source": [
    "Step 6\n",
    "The name of the cafe is CAMPER CAFE. Add an h1 element within your main element. Give it the name of the cafe in capitalized letters to make it stand out."
   ]
  },
  {
   "cell_type": "code",
   "execution_count": null,
   "metadata": {
    "vscode": {
     "languageId": "html"
    }
   },
   "outputs": [],
   "source": [
    "<main>\n",
    "    <h1>CAMPER CAFE</h1>\n",
    "  </main>"
   ]
  },
  {
   "cell_type": "markdown",
   "metadata": {},
   "source": [
    "Step 7\n",
    "To let visitors know the cafe was founded in 2020, add a p element below the h1 element with the text Est. 2020."
   ]
  },
  {
   "cell_type": "code",
   "execution_count": null,
   "metadata": {
    "vscode": {
     "languageId": "html"
    }
   },
   "outputs": [],
   "source": [
    "<h1>CAMPER CAFE</h1>\n",
    "<p>Est. 2020</p>"
   ]
  },
  {
   "cell_type": "markdown",
   "metadata": {},
   "source": [
    "Step 8\n",
    "There will be two sections on the menu, one for coffees and one for desserts. Add a section element within the main element so you have a place to put all the coffees available."
   ]
  },
  {
   "cell_type": "code",
   "execution_count": null,
   "metadata": {
    "vscode": {
     "languageId": "html"
    }
   },
   "outputs": [],
   "source": [
    "<main>\n",
    "    <h1>CAMPER CAFE</h1>\n",
    "    <p>Est. 2020</p>\n",
    "    <section>\n",
    "      </section>\n",
    "  </main>"
   ]
  },
  {
   "cell_type": "markdown",
   "metadata": {},
   "source": [
    "Step 9\n",
    "Create an h2 element in the section element and give it the text Coffee."
   ]
  },
  {
   "cell_type": "code",
   "execution_count": null,
   "metadata": {
    "vscode": {
     "languageId": "html"
    }
   },
   "outputs": [],
   "source": [
    "<section>\n",
    "    <h2>Coffee</h2>\n",
    "  </section>"
   ]
  },
  {
   "cell_type": "markdown",
   "metadata": {},
   "source": [
    "Step 10\n",
    "Up until now, you have been limited regarding the presentation and appearance of the content you create. To start taking control, add a style element within the head element."
   ]
  },
  {
   "cell_type": "code",
   "execution_count": null,
   "metadata": {
    "vscode": {
     "languageId": "html"
    }
   },
   "outputs": [],
   "source": [
    "<head>\n",
    "    <meta charset=\"utf-8\" />\n",
    "    <title>Cafe Menu</title>\n",
    "    <style>\n",
    "      </style>\n",
    "  </head>\n",
    "  <body>\n",
    "    <main>\n",
    "      <h1>CAMPER CAFE</h1>\n",
    "      <p>Est. 2020</p>\n",
    "      <section>\n",
    "        <h2>Coffee</h2>\n",
    "      </section>\n",
    "    </main>\n",
    "  </body>"
   ]
  },
  {
   "cell_type": "markdown",
   "metadata": {},
   "source": [
    "Step 11\n",
    "You can add style to an element by specifying it in the style element and setting a property for it like this:\n",
    "\n",
    "element {\n",
    " property: value;\n",
    "}\n",
    "Center your h1 element by setting its text-align property to the value center."
   ]
  },
  {
   "cell_type": "code",
   "execution_count": null,
   "metadata": {
    "vscode": {
     "languageId": "html"
    }
   },
   "outputs": [],
   "source": [
    "<style>\n",
    "    h1 {\n",
    "        text-align: center;\n",
    "      }\n",
    "    </h1>\n",
    "  </style>"
   ]
  },
  {
   "cell_type": "markdown",
   "metadata": {},
   "source": [
    "Step 12\n",
    "In the previous step, you used a type selector to style the h1 element. Center the h2 and p elements by adding a new type selector for each one to the existing style element."
   ]
  },
  {
   "cell_type": "code",
   "execution_count": null,
   "metadata": {
    "vscode": {
     "languageId": "html"
    }
   },
   "outputs": [],
   "source": [
    "<style>\n",
    "    h1 {\n",
    "      text-align: center;\n",
    "    }\n",
    "    h2 {\n",
    "      text-align: center;\n",
    "    }\n",
    "    p {\n",
    "      text-align: center;\n",
    "    }\n",
    "  </style>"
   ]
  },
  {
   "cell_type": "markdown",
   "metadata": {},
   "source": [
    "Step 13\n",
    "You now have three type selectors with the exact same styling. You can add the same group of styles to many elements by creating a list of selectors. Each selector is separated with commas like this:\n",
    "\n",
    "selector1, selector2 {\n",
    "  property: value;\n",
    "}\n",
    "Delete the three existing type selectors and replace them with one selector list that centers the text for the h1, h2, and p elements."
   ]
  },
  {
   "cell_type": "code",
   "execution_count": null,
   "metadata": {
    "vscode": {
     "languageId": "html"
    }
   },
   "outputs": [],
   "source": [
    "<style>\n",
    "    h1, h2, p {\n",
    "      text-align: center;\n",
    "    }\n",
    "  </style>"
   ]
  },
  {
   "cell_type": "markdown",
   "metadata": {},
   "source": [
    "Step 14\n",
    "You have styled three elements by writing CSS inside the style tags. This works, but since there will be many more styles, it's best to put all the styles in a separate file and link to it.\n",
    "\n",
    "We have created a separate styles.css file for you and switched the editor view to that file. You can change between files with the tabs at the top of the editor.\n",
    "\n",
    "Start by rewriting the styles you have created into the styles.css file. Make sure to exclude the opening and closing style tags."
   ]
  },
  {
   "cell_type": "code",
   "execution_count": null,
   "metadata": {
    "vscode": {
     "languageId": "html"
    }
   },
   "outputs": [],
   "source": [
    "h1, h2, p {\n",
    "    text-align: center;\n",
    "  }"
   ]
  },
  {
   "cell_type": "markdown",
   "metadata": {},
   "source": [
    "Step 15\n",
    "Now that you have the CSS in the styles.css file, go ahead and remove the style element and all its content. Once it is removed, the text that was centered will shift back to the left."
   ]
  },
  {
   "cell_type": "code",
   "execution_count": null,
   "metadata": {
    "vscode": {
     "languageId": "html"
    }
   },
   "outputs": [],
   "source": [
    "<head>\n",
    "    <meta charset=\"utf-8\" />\n",
    "    <title>Cafe Menu</title>\n",
    "  </head>"
   ]
  },
  {
   "cell_type": "markdown",
   "metadata": {},
   "source": [
    "Step 16\n",
    "Now you need to link the styles.css file so the styles will be applied again. Nest a self-closing link element in the head element. Give it a rel attribute value stylesheet and an href attribute value of styles.css."
   ]
  },
  {
   "cell_type": "code",
   "execution_count": null,
   "metadata": {
    "vscode": {
     "languageId": "html"
    }
   },
   "outputs": [],
   "source": [
    "<link rel=\"stylesheet\" href=\"styles.css\">\n",
    "\n",
    "<head>\n",
    "    <meta charset=\"utf-8\" />\n",
    "    <title>Cafe Menu</title>\n",
    "    <link rel=\"stylesheet\" href=\"styles.css\">\n",
    "  </head>"
   ]
  },
  {
   "cell_type": "markdown",
   "metadata": {},
   "source": [
    "Step 17\n",
    "For the styling of the page to look similar on mobile as it does on a desktop or laptop, you need to add a meta element with a special content attribute.\n",
    "\n",
    "Add the following within the head element:\n",
    "\n",
    "<meta name=\"viewport\" content=\"width=device-width, initial-scale=1.0\" />"
   ]
  },
  {
   "cell_type": "code",
   "execution_count": null,
   "metadata": {
    "vscode": {
     "languageId": "html"
    }
   },
   "outputs": [],
   "source": [
    "<head>\n",
    "    <meta charset=\"utf-8\" />\n",
    "    <title>Cafe Menu</title>\n",
    "    <link href=\"styles.css\" rel=\"stylesheet\"/>\n",
    "    <meta name=\"viewport\" content=\"width=device-width, initial-scale=1.0\" />\n",
    "  </head>"
   ]
  },
  {
   "cell_type": "markdown",
   "metadata": {},
   "source": [
    "Step 18\n",
    "The text is centered again so the link to the CSS file is working. Add another style to the file that changes the background-color property to brown for the body element."
   ]
  },
  {
   "cell_type": "code",
   "execution_count": null,
   "metadata": {
    "vscode": {
     "languageId": "html"
    }
   },
   "outputs": [],
   "source": [
    "h1, h2, p {\n",
    "    text-align: center;\n",
    "  }\n",
    "  body {\n",
    "    background-color:brown;\n",
    "  }"
   ]
  },
  {
   "cell_type": "markdown",
   "metadata": {},
   "source": []
  },
  {
   "cell_type": "code",
   "execution_count": null,
   "metadata": {
    "vscode": {
     "languageId": "html"
    }
   },
   "outputs": [],
   "source": []
  },
  {
   "cell_type": "markdown",
   "metadata": {},
   "source": []
  },
  {
   "cell_type": "code",
   "execution_count": null,
   "metadata": {
    "vscode": {
     "languageId": "html"
    }
   },
   "outputs": [],
   "source": []
  },
  {
   "cell_type": "markdown",
   "metadata": {},
   "source": []
  },
  {
   "cell_type": "code",
   "execution_count": null,
   "metadata": {
    "vscode": {
     "languageId": "html"
    }
   },
   "outputs": [],
   "source": []
  },
  {
   "cell_type": "markdown",
   "metadata": {},
   "source": []
  },
  {
   "cell_type": "code",
   "execution_count": null,
   "metadata": {
    "vscode": {
     "languageId": "html"
    }
   },
   "outputs": [],
   "source": []
  },
  {
   "cell_type": "markdown",
   "metadata": {},
   "source": []
  },
  {
   "cell_type": "code",
   "execution_count": null,
   "metadata": {
    "vscode": {
     "languageId": "html"
    }
   },
   "outputs": [],
   "source": []
  },
  {
   "cell_type": "markdown",
   "metadata": {},
   "source": []
  },
  {
   "cell_type": "code",
   "execution_count": null,
   "metadata": {
    "vscode": {
     "languageId": "html"
    }
   },
   "outputs": [],
   "source": []
  },
  {
   "cell_type": "markdown",
   "metadata": {},
   "source": []
  },
  {
   "cell_type": "code",
   "execution_count": null,
   "metadata": {
    "vscode": {
     "languageId": "html"
    }
   },
   "outputs": [],
   "source": []
  }
 ],
 "metadata": {
  "kernelspec": {
   "display_name": "Python 3",
   "language": "python",
   "name": "python3"
  },
  "language_info": {
   "codemirror_mode": {
    "name": "ipython",
    "version": 3
   },
   "file_extension": ".py",
   "mimetype": "text/x-python",
   "name": "python",
   "nbconvert_exporter": "python",
   "pygments_lexer": "ipython3",
   "version": "3.11.4"
  },
  "orig_nbformat": 4
 },
 "nbformat": 4,
 "nbformat_minor": 2
}
