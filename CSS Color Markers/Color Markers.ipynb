{
 "cells": [
  {
   "cell_type": "markdown",
   "metadata": {},
   "source": [
    "Step 1\n",
    "As you've seen in the previous projects, webpages should start with a DOCTYPE html declaration, followed by an html element.\n",
    "\n",
    "Add a DOCTYPE html declaration at the top of the document, and an html element after that. Give the html element a lang attribute with en as its value."
   ]
  },
  {
   "cell_type": "code",
   "execution_count": null,
   "metadata": {
    "vscode": {
     "languageId": "html"
    }
   },
   "outputs": [],
   "source": [
    "<!DOCTYPE html>\n",
    "<html lang=\"en\">\n",
    "  </html>"
   ]
  },
  {
   "cell_type": "markdown",
   "metadata": {},
   "source": [
    "Step 2\n",
    "Nest a head element within the html element. Just after the head element, add a body element."
   ]
  },
  {
   "cell_type": "code",
   "execution_count": null,
   "metadata": {
    "vscode": {
     "languageId": "html"
    }
   },
   "outputs": [],
   "source": [
    "<head>\n",
    "</head>\n",
    "<body>\n",
    "</body>"
   ]
  },
  {
   "cell_type": "markdown",
   "metadata": {},
   "source": [
    "Step 3\n",
    "Remember that the title element gives search engines extra information about the page. It also displays the content of that title element in two more ways:\n",
    "\n",
    "in the title bar when the page is open\n",
    "in the browser tab for the page when you hover on it. Even if that tab is not active, once you hover on the tab, the title text is displayed.\n",
    "Within the head element, nest a title element with the text Colored Markers."
   ]
  },
  {
   "cell_type": "code",
   "execution_count": null,
   "metadata": {
    "vscode": {
     "languageId": "html"
    }
   },
   "outputs": [],
   "source": [
    "<head>\n",
    "    <meta charset=\"UTF-8\">\n",
    "    <title>Colored Markers</title>\n",
    "  </head>"
   ]
  },
  {
   "cell_type": "markdown",
   "metadata": {},
   "source": [
    "Step 5\n",
    "You can have multiple self-closing meta elements on a web page. Each meta element adds information about the page that cannot be expressed by other HTML elements.\n",
    "\n",
    "Add another self-closing meta element within the head. Give it a name attribute set to viewport and a content attribute set to width=device-width, initial-scale=1.0 so your page looks the same on all devices."
   ]
  },
  {
   "cell_type": "code",
   "execution_count": null,
   "metadata": {
    "vscode": {
     "languageId": "html"
    }
   },
   "outputs": [],
   "source": [
    "<head>\n",
    "    <meta charset=\"utf-8\">\n",
    "    <title>Colored Markers</title>\n",
    "    <meta name=\"viewport\" content=\"width=device-width, initial-scale=1.0\">\n",
    "  </head>"
   ]
  },
  {
   "cell_type": "markdown",
   "metadata": {},
   "source": [
    "Step 6\n",
    "Now you're ready to start adding content to the page.\n",
    "\n",
    "Within the body, nest an h1 element with the text CSS Color Markers."
   ]
  },
  {
   "cell_type": "code",
   "execution_count": null,
   "metadata": {
    "vscode": {
     "languageId": "html"
    }
   },
   "outputs": [],
   "source": [
    "<body>\n",
    "    <h1>CSS Color Markers</body>h1>\n",
    "  </body>"
   ]
  },
  {
   "cell_type": "markdown",
   "metadata": {},
   "source": [
    "Step 7\n",
    "In this project you'll work with an external CSS file to style the page. We've already created a styles.css file for you. But before you can use it, you'll need to link it to the page.\n",
    "\n",
    "Nest a link element within the head element. Give it a rel attribute set to stylesheet and an href attribute set to styles.css."
   ]
  },
  {
   "cell_type": "code",
   "execution_count": null,
   "metadata": {
    "vscode": {
     "languageId": "html"
    }
   },
   "outputs": [],
   "source": [
    "<head>\n",
    "    <meta charset=\"utf-8\">\n",
    "    <meta name=\"viewport\" content=\"width=device-width, initial-scale=1.0\">\n",
    "    <title>Colored Markers</title>\n",
    "    <link rel=\"stylesheet\" href=\"styles.css\">\n",
    "  </head>"
   ]
  },
  {
   "cell_type": "markdown",
   "metadata": {},
   "source": [
    "Step 8\n",
    "Now that your external CSS file is set up, you can start styling the page.\n",
    "\n",
    "As a reminder, here's how to target a paragraph element and align it to the right:\n",
    "\n",
    "p {\n",
    "  text-align: right;\n",
    "}\n",
    "Create a new CSS rule that targets the h1 element, and set its text-align property to center."
   ]
  },
  {
   "cell_type": "code",
   "execution_count": null,
   "metadata": {
    "vscode": {
     "languageId": "html"
    }
   },
   "outputs": [],
   "source": [
    "h1 {\n",
    "    text-align: center;\n",
    "  }"
   ]
  },
  {
   "cell_type": "markdown",
   "metadata": {},
   "source": [
    "Step 9\n",
    "Now you'll add some elements that you'll eventually style into color markers.\n",
    "\n",
    "First, within the body element, add a div element and set its class attribute to container. Make sure the div element is below the h1 element."
   ]
  },
  {
   "cell_type": "code",
   "execution_count": null,
   "metadata": {
    "vscode": {
     "languageId": "html"
    }
   },
   "outputs": [],
   "source": [
    "<body>\n",
    "    <h1>CSS Color Markers</h1>\n",
    "    <body>\n",
    "      <div class=\"container\">\n",
    "        </div>\n",
    "        </body>\n",
    "  </body>"
   ]
  },
  {
   "cell_type": "markdown",
   "metadata": {},
   "source": [
    "Step 10\n",
    "Next, within the div element, add another div element and give it a class of marker."
   ]
  },
  {
   "cell_type": "code",
   "execution_count": null,
   "metadata": {
    "vscode": {
     "languageId": "html"
    }
   },
   "outputs": [],
   "source": [
    "<body>\n",
    "    <h1>CSS Color Markers</h1>\n",
    "    <div class=\"container\">\n",
    "      <div class=\"marker\">\n",
    "        </div>\n",
    "    </div>\n",
    "  </body>"
   ]
  },
  {
   "cell_type": "markdown",
   "metadata": {},
   "source": [
    "Step 11\n",
    "It's time to add some color to the marker. Remember that one way to add color to an element is to use a color keyword like black, cyan, or yellow.\n",
    "\n",
    "As a reminder, here's how to target the class freecodecamp:\n",
    "\n",
    ".freecodecamp {\n",
    "  \n",
    "}\n",
    "Create a new CSS rule that targets the class marker, and set its background-color property to red.\n",
    "\n",
    "Note: You will not see any changes after adding the CSS."
   ]
  },
  {
   "cell_type": "code",
   "execution_count": null,
   "metadata": {
    "vscode": {
     "languageId": "html"
    }
   },
   "outputs": [],
   "source": [
    ".marker {\n",
    "    background-color: red;\n",
    "  }"
   ]
  },
  {
   "cell_type": "markdown",
   "metadata": {},
   "source": [
    "Step 14\n",
    "Now that you've got one marker centered with color, it's time to add the other markers.\n",
    "\n",
    "In the container div, add two more div elements and give them each a class of marker."
   ]
  },
  {
   "cell_type": "code",
   "execution_count": null,
   "metadata": {
    "vscode": {
     "languageId": "html"
    }
   },
   "outputs": [],
   "source": [
    "<div class=\"container\">\n",
    "    <div class=\"marker\">\n",
    "      </div>\n",
    "      <div class=\"marker\">\n",
    "        </div>\n",
    "    <div class=\"marker\">\n",
    "    </div>\n",
    "  </div>"
   ]
  },
  {
   "cell_type": "markdown",
   "metadata": {},
   "source": [
    "Step 19\n",
    "Add the class two to the second marker div, and add the class three to the third marker div."
   ]
  },
  {
   "cell_type": "code",
   "execution_count": null,
   "metadata": {
    "vscode": {
     "languageId": "html"
    }
   },
   "outputs": [],
   "source": [
    "<div class=\"marker one\">\n",
    "</div>\n",
    "<div class=\"marker two\">\n",
    "</div>\n",
    "<div class=\"marker three\">\n",
    "</div>"
   ]
  },
  {
   "cell_type": "markdown",
   "metadata": {},
   "source": [
    "Step 22\n",
    "A function is a piece of code that can take an input and perform a specific action. The CSS rgb function accepts values, or arguments, for red, green, and blue, and produces a color:\n",
    "\n",
    "rgb(red, green, blue);\n",
    "Each red, green, and blue value is a number from 0 to 255. 0 means that there's 0% of that color, and is black. 255 means that there's 100% of that color.\n",
    "\n",
    "In the .one CSS rule, replace the color keyword red with the rgb function. For the rgb function, set the value for red to 255, the value for green to 0, and the value for blue to 0."
   ]
  },
  {
   "cell_type": "code",
   "execution_count": null,
   "metadata": {
    "vscode": {
     "languageId": "html"
    }
   },
   "outputs": [],
   "source": [
    ".one {\n",
    "    background-color:rgb(255,0,0);\n",
    "  }"
   ]
  },
  {
   "cell_type": "markdown",
   "metadata": {},
   "source": [
    "Step 42\n",
    "Update the .one CSS rule to target the new red class."
   ]
  },
  {
   "cell_type": "code",
   "execution_count": null,
   "metadata": {
    "vscode": {
     "languageId": "html"
    }
   },
   "outputs": [],
   "source": [
    ".red {\n",
    "    background-color: rgb(0, 0, 0);\n",
    "  }\n",
    "  \n",
    "  .two {\n",
    "    background-color: rgb(0, 0, 0);\n",
    "  }\n",
    "  \n",
    "  .three {\n",
    "    background-color: rgb(0, 0, 0);\n",
    "  }"
   ]
  },
  {
   "cell_type": "markdown",
   "metadata": {},
   "source": [
    "Step 46\n",
    "A very common way to apply color to an element with CSS is with hexadecimal or hex values. While hex values sound complicated, they're really just another form of RGB values.\n",
    "\n",
    "Hex color values start with a # character and take six characters from 0-9 and A-F. The first pair of characters represent red, the second pair represent green, and the third pair represent blue. For example, #4B5320.\n",
    "\n",
    "In the .green class selector, set the background-color property to a hex color code with the values 00 for red, FF for green, and 00 blue."
   ]
  },
  {
   "cell_type": "code",
   "execution_count": null,
   "metadata": {
    "vscode": {
     "languageId": "html"
    }
   },
   "outputs": [],
   "source": [
    ".green {\n",
    "    background-color: #00FF00;\n",
    "  }"
   ]
  },
  {
   "cell_type": "markdown",
   "metadata": {},
   "source": [
    "Step 47\n",
    "You may already be familiar with decimal, or base 10 values, which go from 0 - 9. Hexadecimal, or base 16 values, go from 0 - 9, then A - F:\n",
    "\n",
    "0, 1, 2, 3, 4, 5, 6, 7, 8, 9, A, B, C, D, E, F\n",
    "With hex colors, 00 is 0% of that color, and FF is 100%. So #00FF00 translates to 0% red, 100% green, and 0% blue, and is the same as rgb(0, 255, 0).\n",
    "\n",
    "Lower the intensity of green by setting the green value of the hex color to 7F."
   ]
  },
  {
   "cell_type": "code",
   "execution_count": null,
   "metadata": {
    "vscode": {
     "languageId": "html"
    }
   },
   "outputs": [],
   "source": [
    ".green {\n",
    "    background-color: #007F00;\n",
    "  }"
   ]
  },
  {
   "cell_type": "markdown",
   "metadata": {},
   "source": [
    "Step 48\n",
    "The HSL color model, or hue, saturation, and lightness, is another way to represent colors.\n",
    "\n",
    "The CSS hsl function accepts 3 values: a number from 0 to 360 for hue, a percentage from 0 to 100 for saturation, and a percentage from 0 to 100 for lightness.\n",
    "\n",
    "If you imagine a color wheel, the hue red is at 0 degrees, green is at 120 degrees, and blue is at 240 degrees.\n",
    "\n",
    "Saturation is the intensity of a color from 0%, or gray, to 100% for pure color. You must add the percent sign % to the saturation and lightness values.\n",
    "\n",
    "Lightness is how bright a color appears, from 0%, or complete black, to 100%, complete white, with 50% being neutral.\n",
    "\n",
    "In the .blue CSS rule, use the hsl function to change the background-color property to pure blue. Set the hue to 240, the saturation to 100%, and the lightness to 50%."
   ]
  },
  {
   "cell_type": "code",
   "execution_count": null,
   "metadata": {
    "vscode": {
     "languageId": "html"
    }
   },
   "outputs": [],
   "source": [
    ".blue {\n",
    "    background-color: hsl(240, 100%, 50%);\n",
    "  }"
   ]
  },
  {
   "cell_type": "markdown",
   "metadata": {},
   "source": [
    "Step 49\n",
    "You've learned a few ways to set flat colors in CSS, but you can also use a color transition, or gradient, on an element.\n",
    "\n",
    "A gradient is when one color transitions into another. The CSS linear-gradient function lets you control the direction of the transition along a line, and which colors are used.\n",
    "\n",
    "One thing to remember is that the linear-gradient function actually creates an image element, and is usually paired with the background property which can accept an image as a value.\n",
    "\n",
    "In the .red CSS rule, change the background-color property to background."
   ]
  },
  {
   "cell_type": "code",
   "execution_count": null,
   "metadata": {
    "vscode": {
     "languageId": "html"
    }
   },
   "outputs": [],
   "source": []
  }
 ],
 "metadata": {
  "language_info": {
   "name": "python"
  },
  "orig_nbformat": 4
 },
 "nbformat": 4,
 "nbformat_minor": 2
}
