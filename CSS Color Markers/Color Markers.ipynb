{
 "cells": [
  {
   "cell_type": "markdown",
   "metadata": {},
   "source": [
    "Step 1\n",
    "As you've seen in the previous projects, webpages should start with a DOCTYPE html declaration, followed by an html element.\n",
    "\n",
    "Add a DOCTYPE html declaration at the top of the document, and an html element after that. Give the html element a lang attribute with en as its value."
   ]
  },
  {
   "cell_type": "code",
   "execution_count": null,
   "metadata": {
    "vscode": {
     "languageId": "html"
    }
   },
   "outputs": [],
   "source": [
    "<!DOCTYPE html>\n",
    "<html lang=\"en\">\n",
    "  </html>"
   ]
  },
  {
   "cell_type": "markdown",
   "metadata": {},
   "source": [
    "Step 2\n",
    "Nest a head element within the html element. Just after the head element, add a body element."
   ]
  },
  {
   "cell_type": "code",
   "execution_count": null,
   "metadata": {
    "vscode": {
     "languageId": "html"
    }
   },
   "outputs": [],
   "source": [
    "<head>\n",
    "</head>\n",
    "<body>\n",
    "</body>"
   ]
  },
  {
   "cell_type": "markdown",
   "metadata": {},
   "source": [
    "Step 3\n",
    "Remember that the title element gives search engines extra information about the page. It also displays the content of that title element in two more ways:\n",
    "\n",
    "in the title bar when the page is open\n",
    "in the browser tab for the page when you hover on it. Even if that tab is not active, once you hover on the tab, the title text is displayed.\n",
    "Within the head element, nest a title element with the text Colored Markers."
   ]
  },
  {
   "cell_type": "code",
   "execution_count": null,
   "metadata": {
    "vscode": {
     "languageId": "html"
    }
   },
   "outputs": [],
   "source": [
    "<head>\n",
    "    <meta charset=\"UTF-8\">\n",
    "    <title>Colored Markers</title>\n",
    "  </head>"
   ]
  },
  {
   "cell_type": "markdown",
   "metadata": {},
   "source": [
    "Step 5\n",
    "You can have multiple self-closing meta elements on a web page. Each meta element adds information about the page that cannot be expressed by other HTML elements.\n",
    "\n",
    "Add another self-closing meta element within the head. Give it a name attribute set to viewport and a content attribute set to width=device-width, initial-scale=1.0 so your page looks the same on all devices."
   ]
  },
  {
   "cell_type": "code",
   "execution_count": null,
   "metadata": {
    "vscode": {
     "languageId": "html"
    }
   },
   "outputs": [],
   "source": [
    "<head>\n",
    "    <meta charset=\"utf-8\">\n",
    "    <title>Colored Markers</title>\n",
    "    <meta name=\"viewport\" content=\"width=device-width, initial-scale=1.0\">\n",
    "  </head>"
   ]
  },
  {
   "cell_type": "markdown",
   "metadata": {},
   "source": [
    "Step 6\n",
    "Now you're ready to start adding content to the page.\n",
    "\n",
    "Within the body, nest an h1 element with the text CSS Color Markers."
   ]
  },
  {
   "cell_type": "code",
   "execution_count": null,
   "metadata": {
    "vscode": {
     "languageId": "html"
    }
   },
   "outputs": [],
   "source": [
    "<body>\n",
    "    <h1>CSS Color Markers</body>h1>\n",
    "  </body>"
   ]
  },
  {
   "cell_type": "markdown",
   "metadata": {},
   "source": [
    "Step 7\n",
    "In this project you'll work with an external CSS file to style the page. We've already created a styles.css file for you. But before you can use it, you'll need to link it to the page.\n",
    "\n",
    "Nest a link element within the head element. Give it a rel attribute set to stylesheet and an href attribute set to styles.css."
   ]
  },
  {
   "cell_type": "code",
   "execution_count": null,
   "metadata": {
    "vscode": {
     "languageId": "html"
    }
   },
   "outputs": [],
   "source": [
    "<head>\n",
    "    <meta charset=\"utf-8\">\n",
    "    <meta name=\"viewport\" content=\"width=device-width, initial-scale=1.0\">\n",
    "    <title>Colored Markers</title>\n",
    "    <link rel=\"stylesheet\" href=\"styles.css\">\n",
    "  </head>"
   ]
  },
  {
   "cell_type": "markdown",
   "metadata": {},
   "source": [
    "Step 8\n",
    "Now that your external CSS file is set up, you can start styling the page.\n",
    "\n",
    "As a reminder, here's how to target a paragraph element and align it to the right:\n",
    "\n",
    "p {\n",
    "  text-align: right;\n",
    "}\n",
    "Create a new CSS rule that targets the h1 element, and set its text-align property to center."
   ]
  },
  {
   "cell_type": "code",
   "execution_count": null,
   "metadata": {
    "vscode": {
     "languageId": "html"
    }
   },
   "outputs": [],
   "source": [
    "h1 {\n",
    "    text-align: center;\n",
    "  }"
   ]
  },
  {
   "cell_type": "markdown",
   "metadata": {},
   "source": [
    "Step 9\n",
    "Now you'll add some elements that you'll eventually style into color markers.\n",
    "\n",
    "First, within the body element, add a div element and set its class attribute to container. Make sure the div element is below the h1 element."
   ]
  },
  {
   "cell_type": "code",
   "execution_count": null,
   "metadata": {
    "vscode": {
     "languageId": "html"
    }
   },
   "outputs": [],
   "source": [
    "<body>\n",
    "    <h1>CSS Color Markers</h1>\n",
    "    <body>\n",
    "      <div class=\"container\">\n",
    "        </div>\n",
    "        </body>\n",
    "  </body>"
   ]
  },
  {
   "cell_type": "markdown",
   "metadata": {},
   "source": [
    "Step 10\n",
    "Next, within the div element, add another div element and give it a class of marker."
   ]
  },
  {
   "cell_type": "code",
   "execution_count": null,
   "metadata": {
    "vscode": {
     "languageId": "html"
    }
   },
   "outputs": [],
   "source": [
    "<body>\n",
    "    <h1>CSS Color Markers</h1>\n",
    "    <div class=\"container\">\n",
    "      <div class=\"marker\">\n",
    "        </div>\n",
    "    </div>\n",
    "  </body>"
   ]
  },
  {
   "cell_type": "markdown",
   "metadata": {},
   "source": [
    "Step 11\n",
    "It's time to add some color to the marker. Remember that one way to add color to an element is to use a color keyword like black, cyan, or yellow.\n",
    "\n",
    "As a reminder, here's how to target the class freecodecamp:\n",
    "\n",
    ".freecodecamp {\n",
    "  \n",
    "}\n",
    "Create a new CSS rule that targets the class marker, and set its background-color property to red.\n",
    "\n",
    "Note: You will not see any changes after adding the CSS."
   ]
  },
  {
   "cell_type": "code",
   "execution_count": null,
   "metadata": {
    "vscode": {
     "languageId": "html"
    }
   },
   "outputs": [],
   "source": [
    ".marker {\n",
    "    background-color: red;\n",
    "  }"
   ]
  },
  {
   "cell_type": "markdown",
   "metadata": {},
   "source": [
    "Step 14\n",
    "Now that you've got one marker centered with color, it's time to add the other markers.\n",
    "\n",
    "In the container div, add two more div elements and give them each a class of marker."
   ]
  },
  {
   "cell_type": "code",
   "execution_count": null,
   "metadata": {
    "vscode": {
     "languageId": "html"
    }
   },
   "outputs": [],
   "source": [
    "<div class=\"container\">\n",
    "    <div class=\"marker\">\n",
    "      </div>\n",
    "      <div class=\"marker\">\n",
    "        </div>\n",
    "    <div class=\"marker\">\n",
    "    </div>\n",
    "  </div>"
   ]
  },
  {
   "cell_type": "markdown",
   "metadata": {},
   "source": []
  }
 ],
 "metadata": {
  "language_info": {
   "name": "python"
  },
  "orig_nbformat": 4
 },
 "nbformat": 4,
 "nbformat_minor": 2
}
